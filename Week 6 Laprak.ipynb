{
  "cells": [
    {
      "cell_type": "code",
      "execution_count": null,
      "metadata": {
        "colab": {
          "base_uri": "https://localhost:8080/"
        },
        "id": "0VQBw3o7HsmG",
        "outputId": "e9e1bfcb-b6df-416d-cc7e-b04791a42919"
      },
      "outputs": [
        {
          "output_type": "stream",
          "name": "stdout",
          "text": [
            "Masukkan jumlah baris: 10\n",
            "         * \n",
            "        * * \n",
            "       * * * \n",
            "      * * * * \n",
            "     * * * * * \n",
            "    * * * * * * \n",
            "   * * * * * * * \n",
            "  * * * * * * * * \n",
            " * * * * * * * * * \n",
            "* * * * * * * * * * \n"
          ]
        }
      ],
      "source": [
        "n = int(input(\"Masukkan jumlah baris: \"))\n",
        "\n",
        "for i in range(1, n+1):\n",
        "    print(\" \" * (n - i), end=\"\")\n",
        "    print(\"* \" * i)"
      ]
    },
    {
      "cell_type": "code",
      "execution_count": 14,
      "metadata": {
        "colab": {
          "base_uri": "https://localhost:8080/"
        },
        "id": "w7RIjwIwLWpE",
        "outputId": "87922e40-0a77-4711-c061-ab93ef6a99cf"
      },
      "outputs": [
        {
          "output_type": "stream",
          "name": "stdout",
          "text": [
            "Masukkan Angka = 5\n",
            "      1 \n",
            "     1 1 \n",
            "    1 2 1 \n",
            "   1 3 3 1 \n",
            "  1 4 6 4 1 \n"
          ]
        }
      ],
      "source": [
        "n = int(input(\"Masukkan Angka = \"))\n",
        "\n",
        "for i in range(n):\n",
        "    for j in range(n-i+1):\n",
        "        print(end=\" \")\n",
        "\n",
        "    for j in range(i+1):\n",
        "        if j == 0 or i == 0: coef = 1\n",
        "        else: coef = coef * (i - j + 1) // j\n",
        "        print(coef, end=\" \")\n",
        "    print()"
      ]
    },
    {
      "cell_type": "code",
      "execution_count": 23,
      "metadata": {
        "id": "LvKL52_TMMvs",
        "colab": {
          "base_uri": "https://localhost:8080/"
        },
        "outputId": "1b8bc83f-c3ac-4c1b-e19c-68d5bde5a7cf"
      },
      "outputs": [
        {
          "output_type": "stream",
          "name": "stdout",
          "text": [
            "Baris yang Diinginkan: 4\n",
            "1 3 3 1 "
          ]
        }
      ],
      "source": [
        "n = int(input(\"Baris yang Diinginkan: \"))\n",
        "\n",
        "baris = [1]\n",
        "jumlah_baris = 1\n",
        "\n",
        "for i in range(1, n):\n",
        "    baris_baru = [1]\n",
        "    for j in range(1, len(baris)):\n",
        "        nilai_baru = baris[j - 1] + baris[j]\n",
        "        baris_baru.append(nilai_baru)\n",
        "        jumlah_baris += nilai_baru\n",
        "    baris_baru.append(1)\n",
        "    baris = baris_baru\n",
        "\n",
        "for angka in baris:\n",
        "      print(angka, end=\" \")"
      ]
    }
  ],
  "metadata": {
    "colab": {
      "provenance": []
    },
    "kernelspec": {
      "display_name": "Python 3",
      "name": "python3"
    },
    "language_info": {
      "name": "python"
    }
  },
  "nbformat": 4,
  "nbformat_minor": 0
}